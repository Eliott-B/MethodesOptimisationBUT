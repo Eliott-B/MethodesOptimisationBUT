{
 "cells": [
  {
   "cell_type": "markdown",
   "id": "3fc1bbe1",
   "metadata": {},
   "source": [
    "# Overfitting"
   ]
  },
  {
   "cell_type": "markdown",
   "id": "6f74bb0b",
   "metadata": {},
   "source": [
    "1. Nous allons génèrer des données et les sépare selon un **train set** et un **test set**.\n",
    "2. Nous allons ensuite entraîner plusieurs **modèles polynomiaux** de différents degrés et mesurer leurs **erreurs (erreur quadrratique moyenne, MSE)** respectives sur le train set et sur le test set.\n",
    "3. La relation entre la complexité du modèle et leurs erreurs respective permet de comprendre le concept d'**overfitting**."
   ]
  },
  {
   "cell_type": "markdown",
   "id": "eb0d8b29",
   "metadata": {},
   "source": [
    "## Librairies"
   ]
  },
  {
   "cell_type": "code",
   "execution_count": null,
   "id": "d6c26ce4",
   "metadata": {},
   "outputs": [],
   "source": [
    "import pandas as pd\n",
    "import numpy as np\n",
    "\n",
    "from sklearn.model_selection import train_test_split\n",
    "from sklearn.linear_model import LinearRegression\n",
    "from sklearn.preprocessing import PolynomialFeatures\n",
    "from sklearn.metrics import mean_squared_error\n",
    "\n",
    "import seaborn as sns\n",
    "import matplotlib.pyplot as plt"
   ]
  },
  {
   "cell_type": "markdown",
   "id": "c55c6839",
   "metadata": {},
   "source": [
    "## Create dataset"
   ]
  },
  {
   "cell_type": "markdown",
   "id": "f9894258-96c1-4db8-a7b3-24de22e8853e",
   "metadata": {},
   "source": [
    "Le code suivant permet de générer des **data bruitées** selon la fonction\n",
    "\n",
    "$$\n",
    "f(x) = 3x^3 - 2x^2 + 7x + 13 + \\epsilon\n",
    "$$\n",
    "\n",
    "où $\\epsilon$ est un bruit normal (gaussien) de mooyenne $\\mu = 0$ et déviation stadard $\\sigma = 500$."
   ]
  },
  {
   "cell_type": "code",
   "execution_count": null,
   "id": "71cbdffa",
   "metadata": {},
   "outputs": [],
   "source": [
    "def f(x):\n",
    "    \n",
    "    return 3*x**3 - 2*x**2 + 7*x + 13"
   ]
  },
  {
   "cell_type": "code",
   "execution_count": null,
   "id": "182b0063",
   "metadata": {},
   "outputs": [],
   "source": [
    "X = np.random.uniform(-10, 10, size=(300))\n",
    "y = f(X) + np.random.normal(0, 500, size=(300))"
   ]
  },
  {
   "cell_type": "markdown",
   "id": "18a70687-a818-45f9-b1fe-b6dc19df2cf5",
   "metadata": {},
   "source": [
    "Splittez vos data en un **train set (80%)** et un **test set (20%)**.\n",
    "- Le **train set** est utilisé pour **entraîner** les modèles.\n",
    "- Le **train set** est utilisé pour **évaluer** la performance des modèles.\n",
    "\n",
    "Utiliser la fonction `train_test_split(...)`:\n",
    "\n",
    "https://scikit-learn.org/stable/modules/generated/sklearn.model_selection.train_test_split.html"
   ]
  },
  {
   "cell_type": "code",
   "execution_count": null,
   "id": "29ed3d99",
   "metadata": {},
   "outputs": [],
   "source": [
    "X_train, X_test, y_train, y_test = train_test_split(X, y, test_size=0.2, random_state=42)"
   ]
  },
  {
   "cell_type": "code",
   "execution_count": null,
   "id": "621fccb7",
   "metadata": {},
   "outputs": [],
   "source": [
    "X_train.shape, X_test.shape, y_train.shape, y_test.shape"
   ]
  },
  {
   "cell_type": "code",
   "execution_count": null,
   "id": "7762e701",
   "metadata": {},
   "outputs": [],
   "source": [
    "X_train = X_train.reshape(-1, 1)\n",
    "X_test = X_test.reshape(-1, 1)\n",
    "X_train.shape, X_test.shape, y_train.shape, y_test.shape"
   ]
  },
  {
   "cell_type": "markdown",
   "id": "c8b6dc32-3e3c-4397-a4f3-7a13d2d06688",
   "metadata": {},
   "source": [
    "Faites les graphe (plot) de vos data. Les points du train set et du test set devrons être de différeentes couleurs."
   ]
  },
  {
   "cell_type": "code",
   "execution_count": null,
   "id": "16f52f3f",
   "metadata": {},
   "outputs": [],
   "source": [
    "plt.figure(figsize=(12, 5))\n",
    "\n",
    "\n",
    "x_points = np.linspace(-10, 10, num=100)\n",
    "plt.plot(x_points, f(x_points), label=\"original function\", color=\"red\", linewidth=3)\n",
    "\n",
    "plt.scatter(X_train, y_train, label=\"train set\")\n",
    "plt.scatter(X_test, y_test, label=\"test set\")\n",
    "\n",
    "plt.title('Original function and dataset')\n",
    "plt.legend()\n",
    "plt.show()"
   ]
  },
  {
   "cell_type": "markdown",
   "id": "612da772",
   "metadata": {},
   "source": [
    "## Models"
   ]
  },
  {
   "cell_type": "markdown",
   "id": "1bac4925",
   "metadata": {},
   "source": [
    "### Linear regression"
   ]
  },
  {
   "cell_type": "markdown",
   "id": "88ab8b68-5775-48fc-883f-873821af2758",
   "metadata": {},
   "source": [
    "Entraînez (fittez) une **régression linéaire** (`LinearRegression`) sur votre **train set** et évaluez votre modèle sur le **test set**.\n",
    "\n",
    "L'entraînement d'un modèle comprend toujours les $4$ étapes suivantes:\n",
    "1. **Instanciation:** création du modèle.\n",
    "2. **Entraînement:**  entraîner (fitter) le modèle sur le **train set** (méthode `fit`).\n",
    "3. **Prédictions:** prédire les données du **test set** (et du **train set** également, si besoin) (méthode `predict`).\n",
    "4. **Résultats:** calculer l'erreur quadratique moyenne (`mean_squared_error`) de votre modèle sur le **test set** (et sur le **train set** également, si besoin).\n",
    "\n",
    "Référez-vous à la documentation de la **régression linéaire** (`LinearRegression`) et de l'erreur quadratique moyenne (`mean_squared_error`) pour plus de précisions:\n",
    "\n",
    "https://scikit-learn.org/stable/modules/generated/sklearn.linear_model.LinearRegression.html<br>\n",
    "https://scikit-learn.org/stable/modules/generated/sklearn.metrics.mean_squared_error.html"
   ]
  },
  {
   "cell_type": "code",
   "execution_count": null,
   "id": "6dc540f3",
   "metadata": {},
   "outputs": [],
   "source": [
    "lr = LinearRegression()\n",
    "lr.fit(X_train, y_train)\n",
    "\n",
    "y_train_preds = lr.predict(X_train)\n",
    "y_test_preds = lr.predict(X_test)"
   ]
  },
  {
   "cell_type": "code",
   "execution_count": null,
   "id": "4653dae3",
   "metadata": {},
   "outputs": [],
   "source": [
    "err_train = mean_squared_error(y_train, y_train_preds)\n",
    "err_test = mean_squared_error(y_test, y_test_preds)\n",
    "\n",
    "err_train, err_test"
   ]
  },
  {
   "cell_type": "markdown",
   "id": "93ab0278",
   "metadata": {},
   "source": [
    "### Polynomial regressions"
   ]
  },
  {
   "cell_type": "markdown",
   "id": "8f9fc573-cae3-4b46-926e-083851d976f4",
   "metadata": {},
   "source": [
    "Entraînez (fittez) des **régressions polynomiales** (`PolynomialFeatures`) de degrés $1$ à $10$ sur votre **train set** et évaluez vos modèles sur le **test set**.\n",
    "\n",
    "L'entraînement d'une **régression polynomiale** comprend les étapes suivante:\n",
    "1. **Transformation des inputs:** transformation des inputs `X` en des inputs `X_poly` de degré suprérieur.\n",
    "2. **Instanciation:** création d'une régression linéaire.\n",
    "3. **Entraînement:**  entraîner (fitter) votre régression linéaire sur le **train set** avec les inputs transformées `X_poly` (méthode `fit`).\n",
    "4. **Prédictions:** prédire les données du **test set** (et du **train set** également, si besoin) (méthode `predict`).\n",
    "5. **Résultats:** calculer l'erreur quadratique moyenne (`mean_squared_error`) de votre modèle sur le **test set** (et sur le **train set** également, si besoin).\n",
    "\n",
    "Référez-vous à la documentation de la **régressions polynomiale** (`PolynomialFeatures`) pour plus de précisions:\n",
    "\n",
    "https://scikit-learn.org/stable/modules/generated/sklearn.preprocessing.PolynomialFeatures.html"
   ]
  },
  {
   "cell_type": "code",
   "execution_count": null,
   "id": "5321b751",
   "metadata": {},
   "outputs": [],
   "source": [
    "max_complexity = 11\n",
    "\n",
    "train_test_errors = []\n",
    "\n",
    "for n in range(1, max_complexity):\n",
    "        \n",
    "    poly_fts = PolynomialFeatures(n)\n",
    "    X_train_new = poly_fts.fit_transform(X_train)#.reshape(-1, 1)\n",
    "    X_test_new = poly_fts.transform(X_test)#.reshape(-1, 1)\n",
    "        \n",
    "    lr = LinearRegression()\n",
    "    lr.fit(X_train_new, y_train)\n",
    "    \n",
    "    y_train_preds = lr.predict(X_train_new)\n",
    "    y_test_preds = lr.predict(X_test_new)\n",
    "    \n",
    "    err_train = mean_squared_error(y_train, y_train_preds)\n",
    "    err_test = mean_squared_error(y_test, y_test_preds)\n",
    "    \n",
    "    train_test_errors.append((err_train, err_test))"
   ]
  },
  {
   "cell_type": "code",
   "execution_count": null,
   "id": "a86479d7",
   "metadata": {},
   "outputs": [],
   "source": [
    "train_test_errors"
   ]
  },
  {
   "cell_type": "markdown",
   "id": "ca342593-20c4-442a-9098-fe0ac0b1ea32",
   "metadata": {},
   "source": [
    "Faites les graphe des **erreurs quadratiques moyennes (MSE)** sur le train set et sur le test set en fonction de la **complexité** polynomiale de votre modèle. \n",
    "\n",
    "Vous devriez faire apparaîtrre une petite situation d'**overfitting**. Quel est le meilleur modèle?"
   ]
  },
  {
   "cell_type": "code",
   "execution_count": null,
   "id": "f3200f0f",
   "metadata": {},
   "outputs": [],
   "source": [
    "plt.figure(figsize=(12, 5))\n",
    "\n",
    "poly_degrees = list(range(1, max_complexity))\n",
    "train_errors = [x[0] for x in train_test_errors]\n",
    "test_errors = [x[1] for x in train_test_errors]\n",
    "\n",
    "plt.plot(poly_degrees, train_errors, marker=\"o\", label=\"train error\", linewidth=2)\n",
    "plt.plot(poly_degrees, test_errors, marker=\"o\", label=\"test error\", linewidth=2)\n",
    "\n",
    "plt.xlabel(\"Model complexity\")\n",
    "plt.ylabel(\"MSE\")\n",
    "plt.title('train and test errors')\n",
    "plt.legend()\n",
    "plt.show()"
   ]
  },
  {
   "cell_type": "code",
   "execution_count": null,
   "id": "6e936488-4857-4ac9-9511-e203683719b8",
   "metadata": {},
   "outputs": [],
   "source": []
  }
 ],
 "metadata": {
  "kernelspec": {
   "display_name": "Python 3 (ipykernel)",
   "language": "python",
   "name": "python3"
  },
  "language_info": {
   "codemirror_mode": {
    "name": "ipython",
    "version": 3
   },
   "file_extension": ".py",
   "mimetype": "text/x-python",
   "name": "python",
   "nbconvert_exporter": "python",
   "pygments_lexer": "ipython3",
   "version": "3.12.3"
  }
 },
 "nbformat": 4,
 "nbformat_minor": 5
}
